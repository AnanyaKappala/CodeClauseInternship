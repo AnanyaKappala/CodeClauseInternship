{
 "cells": [
  {
   "cell_type": "code",
   "execution_count": 14,
   "id": "78ef9d9f",
   "metadata": {},
   "outputs": [
    {
     "name": "stdout",
     "output_type": "stream",
     "text": [
      "C:\\Users\\KIIT\\Desktop\\CodeClause_Projects\\darknet\n"
     ]
    }
   ],
   "source": [
    "cd darknet"
   ]
  },
  {
   "cell_type": "code",
   "execution_count": 15,
   "id": "b64fb3ff",
   "metadata": {},
   "outputs": [
    {
     "name": "stdout",
     "output_type": "stream",
     "text": [
      " Volume in drive C is Windows-SSD\n",
      " Volume Serial Number is 9841-2D5E\n",
      "\n",
      " Directory of C:\\Users\\KIIT\\Desktop\\CodeClause_Projects\\darknet\n",
      "\n",
      "29-03-2024  16:18    <DIR>          .\n",
      "29-03-2024  16:44    <DIR>          ..\n",
      "29-03-2024  13:53               227 .gitignore\n",
      "29-03-2024  13:59    <DIR>          backup\n",
      "29-03-2024  13:53    <DIR>          cfg\n",
      "29-03-2024  13:53    <DIR>          data\n",
      "29-03-2024  13:53    <DIR>          examples\n",
      "29-03-2024  13:53    <DIR>          include\n",
      "29-03-2024  16:13           694,276 libdarknet.a\n",
      "29-03-2024  16:13         1,078,579 libdarknet.so\n",
      "29-03-2024  13:53               527 LICENSE\n",
      "29-03-2024  13:53               487 LICENSE.fuck\n",
      "29-03-2024  13:53             6,743 LICENSE.gen\n",
      "29-03-2024  13:53            35,815 LICENSE.gpl\n",
      "29-03-2024  13:53               368 LICENSE.meta\n",
      "29-03-2024  13:53             1,093 LICENSE.mit\n",
      "29-03-2024  13:53               474 LICENSE.v1\n",
      "29-03-2024  13:53             3,145 Makefile\n",
      "29-03-2024  16:13    <DIR>          obj\n",
      "29-03-2024  13:53    <DIR>          python\n",
      "29-03-2024  13:53             5,196 README.md\n",
      "29-03-2024  14:01    <DIR>          results\n",
      "29-03-2024  13:53    <DIR>          scripts\n",
      "29-03-2024  13:53    <DIR>          src\n",
      "              12 File(s)      1,826,930 bytes\n",
      "              12 Dir(s)  286,027,182,080 bytes free\n"
     ]
    }
   ],
   "source": [
    "ls"
   ]
  },
  {
   "cell_type": "code",
   "execution_count": 18,
   "id": "107843be",
   "metadata": {},
   "outputs": [
    {
     "name": "stdout",
     "output_type": "stream",
     "text": [
      "gcc -Iinclude/ -Isrc/ -Wall -Wno-unused-result -Wno-unknown-pragmas -Wfatal-errors -fPIC -Ofast -c ./examples/go.c -o obj/go.o\n"
     ]
    },
    {
     "name": "stderr",
     "output_type": "stream",
     "text": [
      "./examples/go.c: In function 'train_go':\n",
      "./examples/go.c:186:19: warning: format '%ld' expects argument of type 'long int', but argument 2 has type 'size_t' {aka 'long long unsigned int'} [-Wformat=]\n",
      "  186 |         printf(\"%ld, %.3f: %f, %f avg, %f rate, %lf seconds, %ld images\\n\", get_current_batch(net), (float)(*net->seen)/N, loss, avg_loss, get_current_rate(net), what_time_is_it_now()-time, *net->seen);\n",
      "      |                 ~~^                                                         ~~~~~~~~~~~~~~~~~~~~~~\n",
      "      |                   |                                                         |\n",
      "      |                   long int                                                  size_t {aka long long unsigned int}\n",
      "      |                 %lld\n",
      "./examples/go.c:186:64: warning: format '%ld' expects argument of type 'long int', but argument 8 has type 'size_t' {aka 'long long unsigned int'} [-Wformat=]\n",
      "  186 |         printf(\"%ld, %.3f: %f, %f avg, %f rate, %lf seconds, %ld images\\n\", get_current_batch(net), (float)(*net->seen)/N, loss, avg_loss, get_current_rate(net), what_time_is_it_now()-time, *net->seen);\n",
      "      |                                                              ~~^                                                                                                                              ~~~~~~~~~~\n",
      "      |                                                                |                                                                                                                              |\n",
      "      |                                                                long int                                                                                                                       size_t {aka long long unsigned int}\n",
      "      |                                                              %lld\n",
      "./examples/go.c:201:36: warning: format '%ld' expects argument of type 'long int', but argument 5 has type 'size_t' {aka 'long long unsigned int'} [-Wformat=]\n",
      "  201 |             sprintf(buff, \"%s/%s_%ld.backup\",backup_directory,base,get_current_batch(net));\n",
      "      |                                  ~~^                               ~~~~~~~~~~~~~~~~~~~~~~\n",
      "      |                                    |                               |\n",
      "      |                                    long int                        size_t {aka long long unsigned int}\n",
      "      |                                  %lld\n",
      "./examples/go.c: In function 'stdin_ready':\n",
      "./examples/go.c:786:5: error: unknown type name 'fd_set'\n",
      "  786 |     fd_set readfds;\n",
      "      |     ^~~~~~\n",
      "compilation terminated due to -Wfatal-errors.\n",
      "make: *** [Makefile:89: obj/go.o] Error 1\n"
     ]
    }
   ],
   "source": [
    "!make"
   ]
  },
  {
   "cell_type": "code",
   "execution_count": null,
   "id": "f220a26a",
   "metadata": {},
   "outputs": [],
   "source": []
  }
 ],
 "metadata": {
  "kernelspec": {
   "display_name": "Python 3 (ipykernel)",
   "language": "python",
   "name": "python3"
  },
  "language_info": {
   "codemirror_mode": {
    "name": "ipython",
    "version": 3
   },
   "file_extension": ".py",
   "mimetype": "text/x-python",
   "name": "python",
   "nbconvert_exporter": "python",
   "pygments_lexer": "ipython3",
   "version": "3.11.5"
  }
 },
 "nbformat": 4,
 "nbformat_minor": 5
}
