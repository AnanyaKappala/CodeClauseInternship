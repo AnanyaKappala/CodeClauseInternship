{
 "cells": [
  {
   "cell_type": "code",
   "execution_count": 1,
   "id": "a02e5392",
   "metadata": {},
   "outputs": [
    {
     "name": "stdout",
     "output_type": "stream",
     "text": [
      "pip 23.2.1 from C:\\ProgramData\\anaconda3\\Lib\\site-packages\\pip (python 3.11)\n",
      "\n"
     ]
    }
   ],
   "source": [
    "!pip --version"
   ]
  },
  {
   "cell_type": "code",
   "execution_count": 2,
   "id": "0fea1925",
   "metadata": {},
   "outputs": [
    {
     "name": "stdout",
     "output_type": "stream",
     "text": [
      "Defaulting to user installation because normal site-packages is not writeable\n",
      "Requirement already satisfied: pygame in c:\\users\\kiit\\appdata\\roaming\\python\\python311\\site-packages (2.5.2)\n"
     ]
    }
   ],
   "source": [
    "!pip install pygame"
   ]
  },
  {
   "cell_type": "code",
   "execution_count": 3,
   "id": "d1490c85",
   "metadata": {},
   "outputs": [
    {
     "name": "stdout",
     "output_type": "stream",
     "text": [
      "pygame 2.5.2 (SDL 2.28.3, Python 3.11.5)\n",
      "Hello from the pygame community. https://www.pygame.org/contribute.html\n"
     ]
    }
   ],
   "source": [
    "import pygame\n",
    "import sys\n",
    "import random\n",
    "from pygame.locals import *"
   ]
  },
  {
   "cell_type": "code",
   "execution_count": 4,
   "id": "82d2f7ce",
   "metadata": {},
   "outputs": [
    {
     "data": {
      "text/plain": [
       "(5, 0)"
      ]
     },
     "execution_count": 4,
     "metadata": {},
     "output_type": "execute_result"
    }
   ],
   "source": [
    "pygame.init()"
   ]
  },
  {
   "cell_type": "code",
   "execution_count": 5,
   "id": "0b784732",
   "metadata": {},
   "outputs": [],
   "source": [
    "WIDTH, HEIGHT = 300, 300\n",
    "LINE_WIDTH = 15\n",
    "BOARD_ROWS, BOARD_COLS = 3, 3\n",
    "SQUARE_SIZE = WIDTH // BOARD_COLS\n",
    "CIRCLE_RADIUS = SQUARE_SIZE // 3\n",
    "CIRCLE_WIDTH = 15\n",
    "CROSS_WIDTH = 25\n",
    "SPACE = SQUARE_SIZE // 4\n",
    "FONT_SIZE = 40\n",
    "BLUR_RADIUS = 10 \n",
    "\n",
    "BG_COLOR = (28, 170, 156)\n",
    "LINE_COLOR = (23, 145, 135)\n",
    "CIRCLE_COLOR = (239, 231, 200)\n",
    "CROSS_COLOR = (66, 66, 66)\n",
    "TEXT_COLOR = (255, 255, 255)\n",
    "TRANSPARENT_COLOR = (0, 0, 0, 0)\n",
    "\n",
    "font = pygame.font.Font(None, FONT_SIZE)"
   ]
  },
  {
   "cell_type": "code",
   "execution_count": 6,
   "id": "bc0692a8",
   "metadata": {},
   "outputs": [],
   "source": [
    "def draw_lines():\n",
    "    pygame.draw.line(screen, LINE_COLOR, (0, SQUARE_SIZE), (WIDTH, SQUARE_SIZE), LINE_WIDTH)\n",
    "    pygame.draw.line(screen, LINE_COLOR, (0, 2 * SQUARE_SIZE), (WIDTH, 2 * SQUARE_SIZE), LINE_WIDTH)\n",
    "    pygame.draw.line(screen, LINE_COLOR, (SQUARE_SIZE, 0), (SQUARE_SIZE, HEIGHT), LINE_WIDTH)\n",
    "    pygame.draw.line(screen, LINE_COLOR, (2 * SQUARE_SIZE, 0), (2 * SQUARE_SIZE, HEIGHT), LINE_WIDTH)"
   ]
  },
  {
   "cell_type": "code",
   "execution_count": 7,
   "id": "ff904e2a",
   "metadata": {},
   "outputs": [],
   "source": [
    "def initialize_board():\n",
    "    board = [['' for _ in range(BOARD_COLS)] for _ in range(BOARD_ROWS)]\n",
    "    return board"
   ]
  },
  {
   "cell_type": "code",
   "execution_count": 8,
   "id": "23ba7a7f",
   "metadata": {},
   "outputs": [],
   "source": [
    "def draw_figures():\n",
    "    for row in range(BOARD_ROWS):\n",
    "        for col in range(BOARD_COLS):\n",
    "            if board[row][col] == 'X':\n",
    "                pygame.draw.line(screen, CROSS_COLOR, (col * SQUARE_SIZE + SPACE, row * SQUARE_SIZE + SQUARE_SIZE - SPACE),\n",
    "                                 (col * SQUARE_SIZE + SQUARE_SIZE - SPACE, row * SQUARE_SIZE + SPACE), CROSS_WIDTH)\n",
    "                pygame.draw.line(screen, CROSS_COLOR, (col * SQUARE_SIZE + SPACE, row * SQUARE_SIZE + SPACE),\n",
    "                                 (col * SQUARE_SIZE + SQUARE_SIZE - SPACE, row * SQUARE_SIZE + SQUARE_SIZE - SPACE), CROSS_WIDTH)\n",
    "            elif board[row][col] == 'O':\n",
    "                pygame.draw.circle(screen, CIRCLE_COLOR, (col * SQUARE_SIZE + SQUARE_SIZE // 2, row * SQUARE_SIZE + SQUARE_SIZE // 2), CIRCLE_RADIUS, CIRCLE_WIDTH)"
   ]
  },
  {
   "cell_type": "code",
   "execution_count": 9,
   "id": "e7e5302d",
   "metadata": {},
   "outputs": [],
   "source": [
    "def mark_square(row, col, player):\n",
    "    board[row][col] = player"
   ]
  },
  {
   "cell_type": "code",
   "execution_count": 10,
   "id": "486afeb6",
   "metadata": {},
   "outputs": [],
   "source": [
    "def available_square(row, col):\n",
    "    return board[row][col] == ''"
   ]
  },
  {
   "cell_type": "code",
   "execution_count": 11,
   "id": "06260b94",
   "metadata": {},
   "outputs": [],
   "source": [
    "def is_board_full():\n",
    "    for row in range(BOARD_ROWS):\n",
    "        for col in range(BOARD_COLS):\n",
    "            if board[row][col] == '':\n",
    "                return False\n",
    "    return True"
   ]
  },
  {
   "cell_type": "code",
   "execution_count": 12,
   "id": "6bd0a29c",
   "metadata": {},
   "outputs": [],
   "source": [
    "def check_win(player):\n",
    "    for row in range(BOARD_ROWS):\n",
    "        if board[row][0] == board[row][1] == board[row][2] == player:\n",
    "            draw_win_line((0, row), (2, row))\n",
    "            return True\n",
    "    for col in range(BOARD_COLS):\n",
    "        if board[0][col] == board[1][col] == board[2][col] == player:\n",
    "            draw_win_line((col, 0), (col, 2))\n",
    "            return True\n",
    "    if board[0][0] == board[1][1] == board[2][2] == player:\n",
    "        draw_win_line((0, 0), (2, 2))\n",
    "        return True\n",
    "    if board[0][2] == board[1][1] == board[2][0] == player:\n",
    "        draw_win_line((0, 2), (2, 0))\n",
    "        return True\n",
    "    return False"
   ]
  },
  {
   "cell_type": "code",
   "execution_count": 13,
   "id": "ec318ec1",
   "metadata": {},
   "outputs": [],
   "source": [
    "def draw_win_line(start, end):\n",
    "    start_x = start[0] * SQUARE_SIZE + SQUARE_SIZE // 2\n",
    "    start_y = start[1] * SQUARE_SIZE + SQUARE_SIZE // 2\n",
    "    end_x = end[0] * SQUARE_SIZE + SQUARE_SIZE // 2\n",
    "    end_y = end[1] * SQUARE_SIZE + SQUARE_SIZE // 2\n",
    "    pygame.draw.line(screen, (255, 0, 0), (start_x, start_y), (end_x, end_y), 4)"
   ]
  },
  {
   "cell_type": "code",
   "execution_count": 14,
   "id": "51393c20",
   "metadata": {},
   "outputs": [],
   "source": [
    "def draw_vertical_winner_line(col, player):\n",
    "    posX = col * SQUARE_SIZE + SQUARE_SIZE // 2\n",
    "    color = CROSS_COLOR if player == 'X' else CIRCLE_COLOR\n",
    "    pygame.draw.line(screen, color, (posX, 15), (posX, HEIGHT - 15), 4)"
   ]
  },
  {
   "cell_type": "code",
   "execution_count": 15,
   "id": "657abae2",
   "metadata": {},
   "outputs": [],
   "source": [
    "def draw_horizontal_winner_line(row, player):\n",
    "    posY = row * SQUARE_SIZE + SQUARE_SIZE // 2\n",
    "    color = CROSS_COLOR if player == 'X' else CIRCLE_COLOR\n",
    "    pygame.draw.line(screen, color, (15, posY), (WIDTH - 15, posY), 4)"
   ]
  },
  {
   "cell_type": "code",
   "execution_count": 16,
   "id": "152d9a76",
   "metadata": {},
   "outputs": [],
   "source": [
    "def draw_diagonal_winner_line(player):\n",
    "    if player == 'X':\n",
    "        pygame.draw.line(screen, CROSS_COLOR, (15, 15), (WIDTH - 15, HEIGHT - 15), 4)\n",
    "        pygame.draw.line(screen, CROSS_COLOR, (15, HEIGHT - 15), (WIDTH - 15, 15), 4)\n",
    "    else:\n",
    "        pygame.draw.line(screen, CIRCLE_COLOR, (15, 15), (WIDTH - 15, HEIGHT - 15), 4)\n",
    "        pygame.draw.line(screen, CIRCLE_COLOR, (15, HEIGHT - 15), (WIDTH - 15, 15), 4)"
   ]
  },
  {
   "cell_type": "code",
   "execution_count": 17,
   "id": "ac4e72dd",
   "metadata": {},
   "outputs": [],
   "source": [
    "def restart():\n",
    "    screen.fill(BG_COLOR)\n",
    "    draw_lines()\n",
    "    for row in range(BOARD_ROWS):\n",
    "        for col in range(BOARD_COLS):\n",
    "            board[row][col] = ''\n",
    "    draw_figures()"
   ]
  },
  {
   "cell_type": "code",
   "execution_count": 18,
   "id": "cce50314",
   "metadata": {},
   "outputs": [],
   "source": [
    "def computer_move():\n",
    "    while True:\n",
    "        row = random.randint(0, 2)\n",
    "        col = random.randint(0, 2)\n",
    "        if available_square(row, col):\n",
    "            mark_square(row, col, 'O')\n",
    "            break"
   ]
  },
  {
   "cell_type": "code",
   "execution_count": 19,
   "id": "fd1618f0",
   "metadata": {},
   "outputs": [],
   "source": [
    "def display_winner(winner):\n",
    "    background_surface = pygame.Surface(screen.get_size())\n",
    "    background_surface.blit(screen, (0, 0))\n",
    "    background_surface = pygame.transform.smoothscale(background_surface, (WIDTH // BLUR_RADIUS, HEIGHT // BLUR_RADIUS))\n",
    "    background_surface = pygame.transform.smoothscale(background_surface, (WIDTH, HEIGHT))\n",
    "    background_surface.set_alpha(150)\n",
    "\n",
    "    screen.blit(background_surface, (0, 0))\n",
    "\n",
    "    text_surface = font.render(f'{winner} wins!', True, TEXT_COLOR)\n",
    "    text_rect = text_surface.get_rect(center=(WIDTH // 2, HEIGHT // 2))\n",
    "    screen.blit(text_surface, text_rect)\n",
    "\n",
    "    pygame.display.update()\n",
    "    pygame.time.wait(3000)"
   ]
  },
  {
   "cell_type": "code",
   "execution_count": 20,
   "id": "2849167d",
   "metadata": {},
   "outputs": [],
   "source": [
    "screen = pygame.display.set_mode((WIDTH, HEIGHT))\n",
    "pygame.display.set_caption(\"Tic Tac Toe\")\n",
    "screen.fill(BG_COLOR)\n",
    "draw_lines()"
   ]
  },
  {
   "cell_type": "code",
   "execution_count": 21,
   "id": "3e26d5e2",
   "metadata": {},
   "outputs": [],
   "source": [
    "player = 'X'\n",
    "game_over = False\n",
    "board = initialize_board()"
   ]
  },
  {
   "cell_type": "code",
   "execution_count": 22,
   "id": "89a6899e",
   "metadata": {},
   "outputs": [
    {
     "ename": "SystemExit",
     "evalue": "",
     "output_type": "error",
     "traceback": [
      "An exception has occurred, use %tb to see the full traceback.\n",
      "\u001b[1;31mSystemExit\u001b[0m\n"
     ]
    },
    {
     "name": "stderr",
     "output_type": "stream",
     "text": [
      "C:\\ProgramData\\anaconda3\\Lib\\site-packages\\IPython\\core\\interactiveshell.py:3534: UserWarning: To exit: use 'exit', 'quit', or Ctrl-D.\n",
      "  warn(\"To exit: use 'exit', 'quit', or Ctrl-D.\", stacklevel=1)\n"
     ]
    }
   ],
   "source": [
    "while True:\n",
    "    for event in pygame.event.get():\n",
    "        if event.type == pygame.QUIT:\n",
    "            pygame.quit()\n",
    "            sys.exit()\n",
    "        elif event.type == pygame.MOUSEBUTTONDOWN and not game_over and player == 'X':\n",
    "            mouseX = event.pos[0]  # x\n",
    "            mouseY = event.pos[1]  # y\n",
    "            clicked_row = mouseY // SQUARE_SIZE\n",
    "            clicked_col = mouseX // SQUARE_SIZE\n",
    "            if available_square(clicked_row, clicked_col):\n",
    "                mark_square(clicked_row, clicked_col, player)\n",
    "                if check_win(player):\n",
    "                    game_over = True\n",
    "                elif is_board_full():\n",
    "                    game_over = True\n",
    "                else:\n",
    "                    player = 'O'\n",
    "        elif player == 'O' and not game_over:\n",
    "            computer_move()\n",
    "            if check_win('O'):\n",
    "                game_over = True\n",
    "            elif is_board_full():\n",
    "                game_over = True\n",
    "            else:\n",
    "                player = 'X'\n",
    "    \n",
    "    draw_figures()\n",
    "    \n",
    "    if game_over:\n",
    "        if check_win('X'):\n",
    "            display_winner('Human player (X)')\n",
    "        elif check_win('O'):\n",
    "            display_winner('Computer player (O)')\n",
    "        elif is_board_full():\n",
    "            display_winner(\"It's a tie!\")\n",
    "        restart()\n",
    "    else:\n",
    "        pygame.display.update()"
   ]
  }
 ],
 "metadata": {
  "kernelspec": {
   "display_name": "Python 3 (ipykernel)",
   "language": "python",
   "name": "python3"
  },
  "language_info": {
   "codemirror_mode": {
    "name": "ipython",
    "version": 3
   },
   "file_extension": ".py",
   "mimetype": "text/x-python",
   "name": "python",
   "nbconvert_exporter": "python",
   "pygments_lexer": "ipython3",
   "version": "3.11.5"
  }
 },
 "nbformat": 4,
 "nbformat_minor": 5
}
